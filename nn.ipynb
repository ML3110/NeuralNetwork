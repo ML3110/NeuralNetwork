{
 "cells": [
  {
   "cell_type": "code",
   "execution_count": 13,
   "metadata": {
    "id": "UyVaL3lrxQx7"
   },
   "outputs": [],
   "source": [
    "from matplotlib import pyplot as plt\n",
    "import numpy as np\n",
    "import pandas as pd\n",
    "import tensorflow as tf\n",
    "from tensorflow import keras\n",
    "from tensorflow.keras.preprocessing.image import ImageDataGenerator\n",
    "from tensorflow.keras import Sequential\n",
    "from tensorflow.keras.layers import Conv2D\n",
    "from tensorflow.keras.optimizers import Adam, SGD\n",
    "from tensorflow.keras.layers import Conv2D, Dense, Activation, Dropout, MaxPooling2D, Flatten\n",
    "from tensorflow.keras.callbacks import EarlyStopping, ModelCheckpoint, CSVLogger\n",
    "from tensorflow.keras import initializers, regularizers\n",
    "from tensorflow.keras.models import load_model\n",
    "from sklearn.metrics import classification_report, confusion_matrix"
   ]
  },
  {
   "cell_type": "markdown",
   "metadata": {
    "id": "iyomtg-AZ8Wr"
   },
   "source": [
    "# Variable declaration\n",
    "Just specifying variables to be used"
   ]
  },
  {
   "cell_type": "code",
   "execution_count": 14,
   "metadata": {
    "id": "WFS5r6sbyEOx"
   },
   "outputs": [],
   "source": [
    "img_width, img_height = 48,48\n",
    "\n",
    "class_names = ['angry', 'disgust', 'fear', 'happy',\n",
    "               'neutral', 'sad', 'surprise']\n",
    "\n",
    "global_dir = \"C:/Users/matty/Desktop/Gordon/Assignment 2/\"\n",
    "\n",
    "train_data_dir = global_dir + \"dataset/train/\"\n",
    "test_data_dir = global_dir + \"dataset/test/\""
   ]
  },
  {
   "cell_type": "markdown",
   "metadata": {
    "id": "v7BZPaA7bPBx"
   },
   "source": [
    "# ImageDataGenerator Instantiation\n",
    "Various parameters are changed here, some are commented, some are self explanatory"
   ]
  },
  {
   "cell_type": "code",
   "execution_count": 15,
   "metadata": {
    "colab": {
     "base_uri": "https://localhost:8080/"
    },
    "id": "3HsSM2Ny4fq-",
    "outputId": "9a1e8764-95d7-4dfd-b860-030c62bfa2d3"
   },
   "outputs": [
    {
     "name": "stdout",
     "output_type": "stream",
     "text": [
      "Found 22968 images belonging to 7 classes.\n",
      "Found 5741 images belonging to 7 classes.\n",
      "Found 7178 images belonging to 7 classes.\n"
     ]
    }
   ],
   "source": [
    "train_datagen = ImageDataGenerator(\n",
    "    rescale = 1./255,        \n",
    "    validation_split = 0.2,  # 20% split\n",
    "    horizontal_flip = True,  # Change to flip some images\n",
    "    rotation_range = 30,     # Chance to rotate images by maximum of 15 degrees\n",
    "    zoom_range = 0.1         # Chance to zoom in on an image by 10%\n",
    ")        \n",
    "test_datagen = ImageDataGenerator(\n",
    "    rescale = 1./255\n",
    ")\n",
    "val_datagen = ImageDataGenerator(\n",
    "    rescale = 1./255, \n",
    "    validation_split = 0.2\n",
    ")\n",
    "\n",
    "train_generator = train_datagen.flow_from_directory(\n",
    "    target_size = (img_width, img_height),\n",
    "    directory = (train_data_dir),\n",
    "    color_mode = \"grayscale\",\n",
    "    class_mode = \"categorical\",\n",
    "    subset = \"training\",\n",
    "    shuffle = True\n",
    ")\n",
    "\n",
    "val_generator = val_datagen.flow_from_directory(\n",
    "    target_size = (img_width, img_height),\n",
    "    directory = (train_data_dir),\n",
    "    color_mode = \"grayscale\",\n",
    "    class_mode = \"categorical\",\n",
    "    subset = \"validation\",\n",
    "    shuffle = True\n",
    ")\n",
    "\n",
    "test_generator = test_datagen.flow_from_directory(\n",
    "    target_size = (img_width, img_height),\n",
    "    directory = (test_data_dir),\n",
    "    color_mode = \"grayscale\",\n",
    "    class_mode = \"categorical\",\n",
    "    shuffle = False\n",
    ")"
   ]
  },
  {
   "cell_type": "code",
   "execution_count": 16,
   "metadata": {
    "id": "lYNlmAQTdlbl"
   },
   "outputs": [],
   "source": [
    "# Classes is a variable needed for the model - just the number of classes\n",
    "classes = len(train_generator.class_indices.items())"
   ]
  },
  {
   "cell_type": "markdown",
   "metadata": {
    "id": "6fn0-H3Bgz3z"
   },
   "source": [
    "# Model Building"
   ]
  },
  {
   "cell_type": "code",
   "execution_count": 17,
   "metadata": {
    "id": "kayGHzi64wyn"
   },
   "outputs": [],
   "source": [
    "# Original Lenet architecture which was the base architecture for my model\n",
    "# lenet = Sequential([\n",
    "#    Conv2D(32, kernel_size=(3, 3), activation='relu', input_shape=(img_width,img_height,1)),\n",
    "#    MaxPooling2D(strides = 2),\n",
    "#    Conv2D(64, kernel_size=(3, 3), activation='relu'),\n",
    "#    MaxPooling2D(strides = 2),\n",
    "#    Flatten(),\n",
    "#    Dense(256, activation='relu'),\n",
    "#    Dense(84, activation='relu'),\n",
    "#    Dense(units=classes, activation = 'softmax'),\n",
    "# ])\n",
    "\n",
    "model2 = Sequential([\n",
    "    Conv2D(\n",
    "        filters = 32,                # Number of output filters\n",
    "        kernel_size = (5, 5),        # Similar to a sampling size. Usually smaller would be better for smaller images, but 5x5 proved the best\n",
    "        activation = 'relu',         # Activation function. As explained in report, relu was the better choice\n",
    "        input_shape = (img_width,img_height,1)\n",
    "    ),\n",
    "    Conv2D(\n",
    "        filters = 64, \n",
    "        kernel_size = (5, 5),\n",
    "        activation = 'relu'\n",
    "    ),\n",
    "    MaxPooling2D(\n",
    "        strides = 2                   # Stride of the filter downsamples the output feature map\n",
    "    ),\n",
    "    Dropout(\n",
    "        rate = 0.3                    # Rate that neurons will be dropped \n",
    "    ),\n",
    "    Conv2D(\n",
    "        filters = 128, \n",
    "        kernel_size=(5, 5), \n",
    "        activation='relu', \n",
    "        kernel_regularizer = regularizers.l2(0.0001)  # L2 regularisation as explained in report\n",
    "    ),\n",
    "    Dropout(\n",
    "        rate = 0.3\n",
    "    ),\n",
    "    MaxPooling2D(\n",
    "        strides = 2\n",
    "    ),\n",
    "    Dropout(\n",
    "        rate = 0.3\n",
    "    ),\n",
    "    Flatten(),                         # Transforming the data into a single column to pass to the dense layers\n",
    "    Dense(\n",
    "        units = 4096,                  # Amount of neurons\n",
    "        activation='relu'\n",
    "    ),\n",
    "    Dropout(\n",
    "        rate = 0.3\n",
    "    ),\n",
    "    Dense(\n",
    "        units = 2048, \n",
    "        activation='relu'\n",
    "    ),\n",
    "    Dropout(\n",
    "        rate = 0.2\n",
    "    ),\n",
    "    Dense(\n",
    "        units = 84, \n",
    "        activation='relu'\n",
    "    ),\n",
    "    Dropout(\n",
    "        rate = 0.2\n",
    "    ),\n",
    "    Dense(\n",
    "        units = classes, \n",
    "        activation = 'softmax'          # Output activation function is softmax as it is multi class classification\n",
    "    ),\n",
    "])\n",
    "\n",
    "model2.compile(\n",
    "    optimizer = SGD(                    # SGD optimizer\n",
    "        lr = 0.01,                      # Best learning rate achieved was 0.01\n",
    "        momentum = 0.8                  # Best momentum achieved was 0.8\n",
    "        ),\n",
    "    loss = 'categorical_crossentropy',  # Multi class classification\n",
    "    metrics = ['accuracy']             \n",
    ")\n",
    "\n",
    "early_stop = EarlyStopping(             # EarlyStopping callback\n",
    "    monitor = \"val_accuracy\",           # Monitoring the val_accuracy\n",
    "    min_delta = 0,                      \n",
    "    patience = 4,                       # Give it 'x' amount of goes if it doesn't improve before we stop\n",
    "    verbose = 1,                        # Output when stopped\n",
    "    mode = \"auto\"\n",
    ")\n",
    "\n",
    "checkpoint = ModelCheckpoint(           # ModelCheckpoint callback\n",
    "    filepath = \"best.hdf5\",             # Filename for best model\n",
    "    monitor = \"val_accuracy\",           # Basing the best model on val_accuracy\n",
    "    verbose = 1,                        \n",
    "    save_best_only = True,              # Only update if an improvement is made\n",
    "    mode = \"max\"                        # Higher number wanted\n",
    ")\n",
    "\n",
    "csv_logger = CSVLogger(                 # CSVLogger callback\n",
    "    filename = \"training.csv\", \n",
    "    separator = \",\",\n",
    "    append = True   \n",
    ")\n",
    "\n",
    "callbacks = [early_stop, checkpoint, csv_logger]"
   ]
  },
  {
   "cell_type": "markdown",
   "metadata": {
    "id": "xyYUnnorg58a"
   },
   "source": [
    "# Model Training"
   ]
  },
  {
   "cell_type": "code",
   "execution_count": 18,
   "metadata": {
    "colab": {
     "base_uri": "https://localhost:8080/"
    },
    "id": "8S-BDdNe426z",
    "outputId": "38d6c685-50ef-4e56-cc87-2ecf4112af6e"
   },
   "outputs": [
    {
     "name": "stdout",
     "output_type": "stream",
     "text": [
      "Epoch 1/100\n",
      "718/718 [==============================] - 32s 43ms/step - loss: 1.8431 - accuracy: 0.2435 - val_loss: 1.8195 - val_accuracy: 0.2513\n",
      "\n",
      "Epoch 00001: val_accuracy improved from -inf to 0.25135, saving model to best.hdf5\n",
      "Epoch 2/100\n",
      "718/718 [==============================] - 31s 43ms/step - loss: 1.8025 - accuracy: 0.2475 - val_loss: 1.7502 - val_accuracy: 0.2792\n",
      "\n",
      "Epoch 00002: val_accuracy improved from 0.25135 to 0.27922, saving model to best.hdf5\n",
      "Epoch 3/100\n",
      "718/718 [==============================] - 31s 43ms/step - loss: 1.7521 - accuracy: 0.2886 - val_loss: 1.7113 - val_accuracy: 0.3020\n",
      "\n",
      "Epoch 00003: val_accuracy improved from 0.27922 to 0.30204, saving model to best.hdf5\n",
      "Epoch 4/100\n",
      "718/718 [==============================] - 31s 43ms/step - loss: 1.7080 - accuracy: 0.3179 - val_loss: 1.6491 - val_accuracy: 0.3489\n",
      "\n",
      "Epoch 00004: val_accuracy improved from 0.30204 to 0.34889, saving model to best.hdf5\n",
      "Epoch 5/100\n",
      "718/718 [==============================] - 31s 43ms/step - loss: 1.6635 - accuracy: 0.3461 - val_loss: 1.5913 - val_accuracy: 0.3881\n",
      "\n",
      "Epoch 00005: val_accuracy improved from 0.34889 to 0.38809, saving model to best.hdf5\n",
      "Epoch 6/100\n",
      "718/718 [==============================] - 31s 43ms/step - loss: 1.6159 - accuracy: 0.3710 - val_loss: 1.5187 - val_accuracy: 0.4093\n",
      "\n",
      "Epoch 00006: val_accuracy improved from 0.38809 to 0.40934, saving model to best.hdf5\n",
      "Epoch 7/100\n",
      "718/718 [==============================] - 31s 43ms/step - loss: 1.5648 - accuracy: 0.3931 - val_loss: 1.5046 - val_accuracy: 0.4180\n",
      "\n",
      "Epoch 00007: val_accuracy improved from 0.40934 to 0.41805, saving model to best.hdf5\n",
      "Epoch 8/100\n",
      "718/718 [==============================] - 31s 43ms/step - loss: 1.5393 - accuracy: 0.4000 - val_loss: 1.4367 - val_accuracy: 0.4489\n",
      "\n",
      "Epoch 00008: val_accuracy improved from 0.41805 to 0.44888, saving model to best.hdf5\n",
      "Epoch 9/100\n",
      "718/718 [==============================] - 31s 43ms/step - loss: 1.4969 - accuracy: 0.4270 - val_loss: 1.4179 - val_accuracy: 0.4529\n",
      "\n",
      "Epoch 00009: val_accuracy improved from 0.44888 to 0.45288, saving model to best.hdf5\n",
      "Epoch 10/100\n",
      "718/718 [==============================] - 31s 43ms/step - loss: 1.4706 - accuracy: 0.4367 - val_loss: 1.3657 - val_accuracy: 0.4821\n",
      "\n",
      "Epoch 00010: val_accuracy improved from 0.45288 to 0.48215, saving model to best.hdf5\n",
      "Epoch 11/100\n",
      "718/718 [==============================] - 31s 43ms/step - loss: 1.4439 - accuracy: 0.4518 - val_loss: 1.3501 - val_accuracy: 0.4874\n",
      "\n",
      "Epoch 00011: val_accuracy improved from 0.48215 to 0.48737, saving model to best.hdf5\n",
      "Epoch 12/100\n",
      "718/718 [==============================] - 31s 43ms/step - loss: 1.3986 - accuracy: 0.4643 - val_loss: 1.3381 - val_accuracy: 0.4917\n",
      "\n",
      "Epoch 00012: val_accuracy improved from 0.48737 to 0.49173, saving model to best.hdf5\n",
      "Epoch 13/100\n",
      "718/718 [==============================] - 30s 42ms/step - loss: 1.3845 - accuracy: 0.4674 - val_loss: 1.3097 - val_accuracy: 0.4978\n",
      "\n",
      "Epoch 00013: val_accuracy improved from 0.49173 to 0.49782, saving model to best.hdf5\n",
      "Epoch 14/100\n",
      "718/718 [==============================] - 30s 42ms/step - loss: 1.3590 - accuracy: 0.4810 - val_loss: 1.2590 - val_accuracy: 0.5231\n",
      "\n",
      "Epoch 00014: val_accuracy improved from 0.49782 to 0.52308, saving model to best.hdf5\n",
      "Epoch 15/100\n",
      "718/718 [==============================] - 31s 43ms/step - loss: 1.3364 - accuracy: 0.4954 - val_loss: 1.2570 - val_accuracy: 0.5262\n",
      "\n",
      "Epoch 00015: val_accuracy improved from 0.52308 to 0.52621, saving model to best.hdf5\n",
      "Epoch 16/100\n",
      "718/718 [==============================] - 31s 43ms/step - loss: 1.3136 - accuracy: 0.4981 - val_loss: 1.2815 - val_accuracy: 0.5112\n",
      "\n",
      "Epoch 00016: val_accuracy did not improve from 0.52621\n",
      "Epoch 17/100\n",
      "718/718 [==============================] - 31s 43ms/step - loss: 1.3119 - accuracy: 0.5055 - val_loss: 1.2238 - val_accuracy: 0.5374\n",
      "\n",
      "Epoch 00017: val_accuracy improved from 0.52621 to 0.53736, saving model to best.hdf5\n",
      "Epoch 18/100\n",
      "718/718 [==============================] - 31s 43ms/step - loss: 1.2871 - accuracy: 0.5141 - val_loss: 1.1992 - val_accuracy: 0.5471\n",
      "\n",
      "Epoch 00018: val_accuracy improved from 0.53736 to 0.54712, saving model to best.hdf5\n",
      "Epoch 19/100\n",
      "718/718 [==============================] - 31s 43ms/step - loss: 1.2760 - accuracy: 0.5165 - val_loss: 1.2315 - val_accuracy: 0.5328\n",
      "\n",
      "Epoch 00019: val_accuracy did not improve from 0.54712\n",
      "Epoch 20/100\n",
      "718/718 [==============================] - 31s 43ms/step - loss: 1.2548 - accuracy: 0.5249 - val_loss: 1.1896 - val_accuracy: 0.5541\n",
      "\n",
      "Epoch 00020: val_accuracy improved from 0.54712 to 0.55408, saving model to best.hdf5\n",
      "Epoch 21/100\n",
      "718/718 [==============================] - 31s 43ms/step - loss: 1.2469 - accuracy: 0.5348 - val_loss: 1.1779 - val_accuracy: 0.5530\n",
      "\n",
      "Epoch 00021: val_accuracy did not improve from 0.55408\n",
      "Epoch 22/100\n",
      "718/718 [==============================] - 31s 43ms/step - loss: 1.2242 - accuracy: 0.5369 - val_loss: 1.1865 - val_accuracy: 0.5482\n",
      "\n",
      "Epoch 00022: val_accuracy did not improve from 0.55408\n",
      "Epoch 23/100\n",
      "718/718 [==============================] - 31s 43ms/step - loss: 1.2113 - accuracy: 0.5463 - val_loss: 1.1584 - val_accuracy: 0.5659\n",
      "\n",
      "Epoch 00023: val_accuracy improved from 0.55408 to 0.56593, saving model to best.hdf5\n",
      "Epoch 24/100\n",
      "718/718 [==============================] - 31s 43ms/step - loss: 1.2183 - accuracy: 0.5437 - val_loss: 1.1582 - val_accuracy: 0.5611\n",
      "\n",
      "Epoch 00024: val_accuracy did not improve from 0.56593\n",
      "Epoch 25/100\n",
      "718/718 [==============================] - 31s 43ms/step - loss: 1.1982 - accuracy: 0.5496 - val_loss: 1.1539 - val_accuracy: 0.5696\n",
      "\n",
      "Epoch 00025: val_accuracy improved from 0.56593 to 0.56959, saving model to best.hdf5\n",
      "Epoch 26/100\n",
      "718/718 [==============================] - 31s 43ms/step - loss: 1.1767 - accuracy: 0.5577 - val_loss: 1.1472 - val_accuracy: 0.5680\n",
      "\n",
      "Epoch 00026: val_accuracy did not improve from 0.56959\n",
      "Epoch 27/100\n",
      "718/718 [==============================] - 31s 43ms/step - loss: 1.1808 - accuracy: 0.5521 - val_loss: 1.1239 - val_accuracy: 0.5750\n",
      "\n",
      "Epoch 00027: val_accuracy improved from 0.56959 to 0.57499, saving model to best.hdf5\n",
      "Epoch 28/100\n",
      "718/718 [==============================] - 31s 43ms/step - loss: 1.1726 - accuracy: 0.5608 - val_loss: 1.1335 - val_accuracy: 0.5736\n",
      "\n",
      "Epoch 00028: val_accuracy did not improve from 0.57499\n",
      "Epoch 29/100\n",
      "718/718 [==============================] - 31s 43ms/step - loss: 1.1478 - accuracy: 0.5698 - val_loss: 1.1261 - val_accuracy: 0.5743\n",
      "\n",
      "Epoch 00029: val_accuracy did not improve from 0.57499\n",
      "Epoch 30/100\n",
      "718/718 [==============================] - 31s 43ms/step - loss: 1.1457 - accuracy: 0.5717 - val_loss: 1.1342 - val_accuracy: 0.5753\n",
      "\n",
      "Epoch 00030: val_accuracy improved from 0.57499 to 0.57534, saving model to best.hdf5\n",
      "Epoch 31/100\n",
      "718/718 [==============================] - 31s 43ms/step - loss: 1.1344 - accuracy: 0.5787 - val_loss: 1.1343 - val_accuracy: 0.5741\n",
      "\n",
      "Epoch 00031: val_accuracy did not improve from 0.57534\n",
      "Epoch 32/100\n",
      "718/718 [==============================] - 31s 43ms/step - loss: 1.1184 - accuracy: 0.5819 - val_loss: 1.1261 - val_accuracy: 0.5757\n",
      "\n",
      "Epoch 00032: val_accuracy improved from 0.57534 to 0.57568, saving model to best.hdf5\n",
      "Epoch 33/100\n",
      "718/718 [==============================] - 31s 43ms/step - loss: 1.1226 - accuracy: 0.5756 - val_loss: 1.1154 - val_accuracy: 0.5827\n",
      "\n",
      "Epoch 00033: val_accuracy improved from 0.57568 to 0.58265, saving model to best.hdf5\n",
      "Epoch 34/100\n",
      "718/718 [==============================] - 31s 43ms/step - loss: 1.1081 - accuracy: 0.5883 - val_loss: 1.1065 - val_accuracy: 0.5877\n",
      "\n",
      "Epoch 00034: val_accuracy improved from 0.58265 to 0.58770, saving model to best.hdf5\n",
      "Epoch 35/100\n",
      "718/718 [==============================] - 31s 43ms/step - loss: 1.1069 - accuracy: 0.5872 - val_loss: 1.0993 - val_accuracy: 0.5919\n",
      "\n",
      "Epoch 00035: val_accuracy improved from 0.58770 to 0.59188, saving model to best.hdf5\n",
      "Epoch 36/100\n",
      "718/718 [==============================] - 31s 43ms/step - loss: 1.0906 - accuracy: 0.5923 - val_loss: 1.1244 - val_accuracy: 0.5766\n",
      "\n",
      "Epoch 00036: val_accuracy did not improve from 0.59188\n",
      "Epoch 37/100\n",
      "718/718 [==============================] - 30s 42ms/step - loss: 1.0854 - accuracy: 0.5930 - val_loss: 1.1046 - val_accuracy: 0.5919\n",
      "\n",
      "Epoch 00037: val_accuracy did not improve from 0.59188\n",
      "Epoch 38/100\n",
      "718/718 [==============================] - 31s 43ms/step - loss: 1.0574 - accuracy: 0.6042 - val_loss: 1.0830 - val_accuracy: 0.5968\n",
      "\n",
      "Epoch 00038: val_accuracy improved from 0.59188 to 0.59676, saving model to best.hdf5\n",
      "Epoch 39/100\n",
      "718/718 [==============================] - 31s 43ms/step - loss: 1.0638 - accuracy: 0.6067 - val_loss: 1.0959 - val_accuracy: 0.5881\n",
      "\n",
      "Epoch 00039: val_accuracy did not improve from 0.59676\n",
      "Epoch 40/100\n",
      "718/718 [==============================] - 31s 43ms/step - loss: 1.0646 - accuracy: 0.6027 - val_loss: 1.0972 - val_accuracy: 0.5868\n",
      "\n",
      "Epoch 00040: val_accuracy did not improve from 0.59676\n",
      "Epoch 41/100\n",
      "718/718 [==============================] - 31s 43ms/step - loss: 1.0454 - accuracy: 0.6121 - val_loss: 1.1064 - val_accuracy: 0.5884\n",
      "\n",
      "Epoch 00041: val_accuracy did not improve from 0.59676\n",
      "Epoch 42/100\n",
      "718/718 [==============================] - 31s 43ms/step - loss: 1.0347 - accuracy: 0.6131 - val_loss: 1.1043 - val_accuracy: 0.5901\n",
      "\n",
      "Epoch 00042: val_accuracy did not improve from 0.59676\n",
      "Epoch 00042: early stopping\n"
     ]
    }
   ],
   "source": [
    "history = model2.fit(\n",
    "    train_generator,\n",
    "    validation_data = val_generator,\n",
    "    epochs = 100,\n",
    "    callbacks = callbacks,\n",
    "    shuffle = True\n",
    ")"
   ]
  },
  {
   "cell_type": "markdown",
   "metadata": {
    "id": "0VnqbLcfK-qn"
   },
   "source": [
    "# Graphing\n",
    "This section shows some graphs for the model outlining training and validation accuracy and loss."
   ]
  },
  {
   "cell_type": "code",
   "execution_count": 19,
   "metadata": {
    "colab": {
     "base_uri": "https://localhost:8080/",
     "height": 639
    },
    "id": "hUEJ03nV7BWe",
    "outputId": "160dde2c-e172-4ed8-8da8-e0cfb79bd4ad"
   },
   "outputs": [
    {
     "data": {
      "text/plain": [
       "<matplotlib.legend.Legend at 0x7f9e90c25be0>"
      ]
     },
     "execution_count": 19,
     "metadata": {
      "tags": []
     },
     "output_type": "execute_result"
    },
    {
     "data": {
      "image/png": "[encoded data removed]",
      "text/plain": [
       "<Figure size 720x720 with 1 Axes>"
      ]
     },
     "metadata": {
      "needs_background": "light",
      "tags": []
     },
     "output_type": "display_data"
    }
   ],
   "source": [
    "plt.figure(figsize = (10, 10))\n",
    "plt.plot(history.history[\"accuracy\"], label = \"Training Accuracy\")\n",
    "plt.plot(history.history[\"val_accuracy\"], label = \"Validation Accuracy\")\n",
    "plt.title(\"Accuracy\")\n",
    "plt.xlabel(\"Epochs\")\n",
    "plt.ylabel(\"Accuracy\")\n",
    "plt.legend([\"Training\", \"Validation\"])"
   ]
  },
  {
   "cell_type": "code",
   "execution_count": 20,
   "metadata": {
    "colab": {
     "base_uri": "https://localhost:8080/",
     "height": 639
    },
    "id": "2rl0JP1V7EZx",
    "outputId": "4ec0ae8a-d64a-4e95-fed1-6bf5b9455b2f"
   },
   "outputs": [
    {
     "data": {
      "text/plain": [
       "<matplotlib.legend.Legend at 0x7f9ee6ca6b38>"
      ]
     },
     "execution_count": 20,
     "metadata": {
      "tags": []
     },
     "output_type": "execute_result"
    },
    {
     "data": {
      "image/png": "[encoded data removed]",
      "text/plain": [
       "<Figure size 720x720 with 1 Axes>"
      ]
     },
     "metadata": {
      "needs_background": "light",
      "tags": []
     },
     "output_type": "display_data"
    }
   ],
   "source": [
    "plt.figure(figsize = (10, 10))\n",
    "plt.plot(history.history[\"loss\"])\n",
    "plt.plot(history.history[\"val_loss\"])\n",
    "plt.title(\"Loss\")\n",
    "plt.xlabel(\"Epochs\")\n",
    "plt.ylabel(\"Loss\")\n",
    "plt.legend([\"Training\", \"Validation\"])"
   ]
  },
  {
   "cell_type": "markdown",
   "metadata": {
    "id": "4KwdJhagLpci"
   },
   "source": [
    "# Model Evaluation\n",
    "This is the evaluation of the best model which is saved."
   ]
  },
  {
   "cell_type": "code",
   "execution_count": 21,
   "metadata": {
    "colab": {
     "base_uri": "https://localhost:8080/"
    },
    "id": "JxMz9pxOkQ7S",
    "outputId": "956dbfd0-5532-4b79-daa0-4555bddee190"
   },
   "outputs": [
    {
     "name": "stdout",
     "output_type": "stream",
     "text": [
      "718/718 [==============================] - 22s 30ms/step - loss: 0.9643 - accuracy: 0.6516\n",
      "225/225 [==============================] - 4s 19ms/step - loss: 1.0807 - accuracy: 0.5936\n"
     ]
    }
   ],
   "source": [
    "saved_model = load_model(\"best.hdf5\")\n",
    "\n",
    "train_acc = saved_model.evaluate(train_generator)\n",
    "test_acc = saved_model.evaluate(test_generator)"
   ]
  },
  {
   "cell_type": "markdown",
   "metadata": {
    "id": "yhlomj16L5cC"
   },
   "source": [
    "## Confusion Matrix\n",
    "The confusion matrix is prepared (conMatrix) and can be printed, but this has been visualised in pyplot."
   ]
  },
  {
   "cell_type": "code",
   "execution_count": 22,
   "metadata": {
    "colab": {
     "base_uri": "https://localhost:8080/",
     "height": 580
    },
    "id": "KHLg1S0Yj_gt",
    "outputId": "9b23725c-51ce-470a-ebd9-b867f7ca5a40"
   },
   "outputs": [
    {
     "data": {
      "image/png": "[encoded data removed]",
      "text/plain": [
       "<Figure size 720x720 with 2 Axes>"
      ]
     },
     "metadata": {
      "needs_background": "light",
      "tags": []
     },
     "output_type": "display_data"
    }
   ],
   "source": [
    "pred = np.argmax(model2.predict(test_generator), axis = 1)\n",
    "\n",
    "conMatrix = confusion_matrix(test_generator.classes, pred)\n",
    "\n",
    "plt.figure(figsize = (10, 10))\n",
    "plt.imshow(conMatrix, cmap=\"viridis\")\n",
    "plt.colorbar()\n",
    "plt.xticks(np.arange(classes),labels=class_names)\n",
    "plt.yticks(np.arange(classes), labels=class_names)\n",
    "\n",
    "for i in range (classes):\n",
    "  for j in range (classes):\n",
    "    text = plt.text(j, i, conMatrix[i, j], ha = \"center\", va = \"center\", color = \"white\")"
   ]
  },
  {
   "cell_type": "code",
   "execution_count": 23,
   "metadata": {
    "colab": {
     "base_uri": "https://localhost:8080/"
    },
    "id": "b1A1lhmkneKZ",
    "outputId": "4048870e-3bcc-4a43-953f-40cfdad82baf"
   },
   "outputs": [
    {
     "name": "stdout",
     "output_type": "stream",
     "text": [
      "              precision    recall  f1-score   support\n",
      "\n",
      "       angry       0.44      0.59      0.50       958\n",
      "     disgust       0.77      0.18      0.29       111\n",
      "        fear       0.41      0.37      0.39      1024\n",
      "       happy       0.81      0.84      0.82      1774\n",
      "     neutral       0.57      0.48      0.52      1233\n",
      "         sad       0.49      0.46      0.48      1247\n",
      "    surprise       0.70      0.74      0.72       831\n",
      "\n",
      "    accuracy                           0.59      7178\n",
      "   macro avg       0.60      0.52      0.53      7178\n",
      "weighted avg       0.59      0.59      0.59      7178\n",
      "\n"
     ]
    }
   ],
   "source": [
    "classReport = classification_report(test_generator.classes, pred, target_names = class_names)\n",
    "print(classReport)"
   ]
  }
 ],
 "metadata": {
  "accelerator": "GPU",
  "colab": {
   "collapsed_sections": [],
   "name": "Assignment2.ipynb",
   "provenance": []
  },
  "kernelspec": {
   "display_name": "Python 3",
   "language": "python",
   "name": "python3"
  },
  "language_info": {
   "codemirror_mode": {
    "name": "ipython",
    "version": 3
   },
   "file_extension": ".py",
   "mimetype": "text/x-python",
   "name": "python",
   "nbconvert_exporter": "python",
   "pygments_lexer": "ipython3",
   "version": "3.7.9"
  }
 },
 "nbformat": 4,
 "nbformat_minor": 1
}
